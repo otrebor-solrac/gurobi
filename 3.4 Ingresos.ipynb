{
 "cells": [
  {
   "cell_type": "markdown",
   "id": "7798a001",
   "metadata": {},
   "source": [
    "Los propietarios de una empresa de alquiler de autos han determinado que si cobran a los clientes p\n",
    "dólares diarios por el alquiler un auto, donde 50≤p≤200, el número de autos n que alquilan por día puede ser modelada por la función lineal n(p)=1.000 −5p. Si cobran 50 por día o menos, alquilarán todos sus automóviles. Si cobran 200 por día o más, no alquilarán ningún automóvil. Suponiendo que los propietarios planeen cobrar a los clientes entre 50 diarios y 200 diarios por el alquiler de un auto, ¿cuánto deberían cobrar para maximizar sus ingresos?"
   ]
  },
  {
   "cell_type": "code",
   "execution_count": 1,
   "id": "4dc2eb22",
   "metadata": {},
   "outputs": [],
   "source": [
    "import gurobipy as gp"
   ]
  },
  {
   "cell_type": "markdown",
   "id": "299fe0c3",
   "metadata": {},
   "source": [
    "Ganacia\n",
    "\n",
    "G=n*p\n",
    "\n",
    "Restriccion\n",
    "\n",
    "50≤p≤200\n",
    "\n",
    "n=1000-5p\n",
    "\n",
    "n>=0 \n",
    "\n",
    "\n"
   ]
  },
  {
   "cell_type": "code",
   "execution_count": 2,
   "id": "1287c626",
   "metadata": {},
   "outputs": [
    {
     "name": "stdout",
     "output_type": "stream",
     "text": [
      "Restricted license - for non-production use only - expires 2024-10-28\n",
      "Set parameter NonConvex to value 2\n"
     ]
    }
   ],
   "source": [
    "model = gp.Model('carros')\n",
    "model.setParam('NonConvex', 2)"
   ]
  },
  {
   "cell_type": "code",
   "execution_count": 3,
   "id": "9c1fa478",
   "metadata": {},
   "outputs": [],
   "source": [
    "n = model.addVar(vtype=gp.GRB.CONTINUOUS,lb=0,name='autos')\n",
    "p = model.addVar(vtype=gp.GRB.CONTINUOUS,lb=50,ub=200,name='dinero')\n"
   ]
  },
  {
   "cell_type": "code",
   "execution_count": 4,
   "id": "abbcfdf6",
   "metadata": {},
   "outputs": [],
   "source": [
    "model.setObjective(n*p, gp.GRB.MAXIMIZE)"
   ]
  },
  {
   "cell_type": "code",
   "execution_count": 5,
   "id": "a803def1",
   "metadata": {},
   "outputs": [
    {
     "data": {
      "text/plain": [
       "<gurobi.Constr *Awaiting Model Update*>"
      ]
     },
     "execution_count": 5,
     "metadata": {},
     "output_type": "execute_result"
    }
   ],
   "source": [
    "model.addConstr(n==1000-5*p)\n"
   ]
  },
  {
   "cell_type": "code",
   "execution_count": 6,
   "id": "6a1fd0f0",
   "metadata": {},
   "outputs": [
    {
     "name": "stdout",
     "output_type": "stream",
     "text": [
      "Gurobi Optimizer version 10.0.2 build v10.0.2rc0 (linux64)\n",
      "\n",
      "CPU model: Intel(R) Core(TM) i5-10300H CPU @ 2.50GHz, instruction set [SSE2|AVX|AVX2]\n",
      "Thread count: 4 physical cores, 8 logical processors, using up to 8 threads\n",
      "\n",
      "Optimize a model with 1 rows, 2 columns and 2 nonzeros\n",
      "Model fingerprint: 0x9a9520c7\n",
      "Model has 1 quadratic objective term\n",
      "Coefficient statistics:\n",
      "  Matrix range     [1e+00, 5e+00]\n",
      "  Objective range  [0e+00, 0e+00]\n",
      "  QObjective range [2e+00, 2e+00]\n",
      "  Bounds range     [5e+01, 2e+02]\n",
      "  RHS range        [1e+03, 1e+03]\n",
      "\n",
      "Continuous model is non-convex -- solving as a MIP\n",
      "\n",
      "Found heuristic solution: objective -0.0000000\n",
      "Presolve time: 0.00s\n",
      "Presolved: 3 rows, 3 columns, 7 nonzeros\n",
      "Presolved model has 1 bilinear constraint(s)\n",
      "Variable types: 3 continuous, 0 integer (0 binary)\n",
      "\n",
      "Root relaxation: objective 7.500000e+04, 2 iterations, 0.00 seconds (0.00 work units)\n",
      "\n",
      "    Nodes    |    Current Node    |     Objective Bounds      |     Work\n",
      " Expl Unexpl |  Obj  Depth IntInf | Incumbent    BestBd   Gap | It/Node Time\n",
      "\n",
      "     0     0 75000.0000    0    1   -0.00000 75000.0000      -     -    0s\n",
      "H    0     0                    46875.000000 75000.0000  60.0%     -    0s\n",
      "H    0     0                    50000.000000 75000.0000  50.0%     -    0s\n",
      "     0     0 56250.0000    0    1 50000.0000 56250.0000  12.5%     -    0s\n",
      "     0     0 51562.5000    0    1 50000.0000 51562.5000  3.12%     -    0s\n",
      "     0     0 50390.6250    0    1 50000.0000 50390.6250  0.78%     -    0s\n",
      "     0     0 50097.6562    0    1 50000.0000 50097.6562  0.20%     -    0s\n",
      "     0     0 50024.4141    0    1 50000.0000 50024.4141  0.05%     -    0s\n",
      "     0     0 50006.1035    0    1 50000.0000 50006.1035  0.01%     -    0s\n",
      "     0     0 50001.5259    0    1 50000.0000 50001.5259  0.00%     -    0s\n",
      "\n",
      "Cutting planes:\n",
      "  RLT: 4\n",
      "\n",
      "Explored 1 nodes (9 simplex iterations) in 0.02 seconds (0.00 work units)\n",
      "Thread count was 8 (of 8 available processors)\n",
      "\n",
      "Solution count 3: 50000 46875 -0 \n",
      "\n",
      "Optimal solution found (tolerance 1.00e-04)\n",
      "Best objective 5.000000000000e+04, best bound 5.000152587891e+04, gap 0.0031%\n"
     ]
    }
   ],
   "source": [
    "model.optimize()"
   ]
  },
  {
   "cell_type": "code",
   "execution_count": 7,
   "id": "129d6550",
   "metadata": {},
   "outputs": [
    {
     "data": {
      "text/plain": [
       "50000.0"
      ]
     },
     "execution_count": 7,
     "metadata": {},
     "output_type": "execute_result"
    }
   ],
   "source": [
    "model.ObjVal"
   ]
  },
  {
   "cell_type": "code",
   "execution_count": 8,
   "id": "a8dfa078",
   "metadata": {},
   "outputs": [
    {
     "data": {
      "text/plain": [
       "499.99999999999"
      ]
     },
     "execution_count": 8,
     "metadata": {},
     "output_type": "execute_result"
    }
   ],
   "source": [
    "n.X"
   ]
  },
  {
   "cell_type": "code",
   "execution_count": 9,
   "id": "388fcf88",
   "metadata": {},
   "outputs": [
    {
     "data": {
      "text/plain": [
       "100.000000000002"
      ]
     },
     "execution_count": 9,
     "metadata": {},
     "output_type": "execute_result"
    }
   ],
   "source": [
    "p.X"
   ]
  }
 ],
 "metadata": {
  "kernelspec": {
   "display_name": "Python 3 (ipykernel)",
   "language": "python",
   "name": "python3"
  },
  "language_info": {
   "codemirror_mode": {
    "name": "ipython",
    "version": 3
   },
   "file_extension": ".py",
   "mimetype": "text/x-python",
   "name": "python",
   "nbconvert_exporter": "python",
   "pygments_lexer": "ipython3",
   "version": "3.10.6"
  },
  "toc": {
   "base_numbering": 1,
   "nav_menu": {},
   "number_sections": true,
   "sideBar": true,
   "skip_h1_title": false,
   "title_cell": "Table of Contents",
   "title_sidebar": "Contents",
   "toc_cell": false,
   "toc_position": {},
   "toc_section_display": true,
   "toc_window_display": false
  }
 },
 "nbformat": 4,
 "nbformat_minor": 5
}
