{
 "cells": [
  {
   "cell_type": "markdown",
   "id": "eb4bf600",
   "metadata": {},
   "source": [
    "La caja abierta se fabricará de 24in por 36in de cartón quitando un cuadrado de cada esquina de la caja y doblando las solapas de cada lado. ¿De qué tamaño es el cuadrado que hay que cortar en cada esquina para obtener una caja con el máximo volumen?"
   ]
  },
  {
   "cell_type": "code",
   "execution_count": 1,
   "id": "946bbc19",
   "metadata": {},
   "outputs": [],
   "source": [
    "import gurobipy as gp"
   ]
  },
  {
   "cell_type": "markdown",
   "id": "9fa285b3",
   "metadata": {},
   "source": [
    "Objetivo\n",
    "\n",
    "V = X*Y\n",
    "X=(36-2h)\n",
    "Y=(24-2h)*h\n",
    "\n",
    "Restriccion\n",
    "\n",
    "R1 = X > 0\n",
    "\n",
    "R2 = Y >0\n"
   ]
  },
  {
   "cell_type": "code",
   "execution_count": 13,
   "id": "38a99c75",
   "metadata": {},
   "outputs": [
    {
     "name": "stdout",
     "output_type": "stream",
     "text": [
      "Set parameter NonConvex to value 2\n"
     ]
    }
   ],
   "source": [
    "model = gp.Model('caja')\n",
    "model.setParam('NonConvex', 2)"
   ]
  },
  {
   "cell_type": "code",
   "execution_count": 14,
   "id": "4ca9b98b",
   "metadata": {},
   "outputs": [],
   "source": [
    "X = model.addVar(vtype=gp.GRB.CONTINUOUS,lb=0,name='X')\n",
    "Y = model.addVar(vtype=gp.GRB.CONTINUOUS,lb=0,name='Y')\n",
    "h = model.addVar(vtype=gp.GRB.CONTINUOUS,lb=0,name='h')"
   ]
  },
  {
   "cell_type": "code",
   "execution_count": 15,
   "id": "4aacf992",
   "metadata": {},
   "outputs": [],
   "source": [
    "model.setObjective(X*Y, gp.GRB.MAXIMIZE)"
   ]
  },
  {
   "cell_type": "code",
   "execution_count": 16,
   "id": "f3f3e364",
   "metadata": {},
   "outputs": [
    {
     "data": {
      "text/plain": [
       "<gurobi.QConstr Not Yet Added>"
      ]
     },
     "execution_count": 16,
     "metadata": {},
     "output_type": "execute_result"
    }
   ],
   "source": [
    "model.addConstr(36-2*h==X)\n",
    "model.addConstr(h*(24-2*h)==Y)"
   ]
  },
  {
   "cell_type": "code",
   "execution_count": 17,
   "id": "c377649a",
   "metadata": {},
   "outputs": [
    {
     "name": "stdout",
     "output_type": "stream",
     "text": [
      "Gurobi Optimizer version 10.0.2 build v10.0.2rc0 (linux64)\n",
      "\n",
      "CPU model: Intel(R) Core(TM) i5-10300H CPU @ 2.50GHz, instruction set [SSE2|AVX|AVX2]\n",
      "Thread count: 4 physical cores, 8 logical processors, using up to 8 threads\n",
      "\n",
      "Optimize a model with 1 rows, 3 columns and 2 nonzeros\n",
      "Model fingerprint: 0xa725ed2c\n",
      "Model has 1 quadratic objective term\n",
      "Model has 1 quadratic constraint\n",
      "Coefficient statistics:\n",
      "  Matrix range     [1e+00, 2e+00]\n",
      "  QMatrix range    [2e+00, 2e+00]\n",
      "  QLMatrix range   [1e+00, 2e+01]\n",
      "  Objective range  [0e+00, 0e+00]\n",
      "  QObjective range [2e+00, 2e+00]\n",
      "  Bounds range     [0e+00, 0e+00]\n",
      "  RHS range        [4e+01, 4e+01]\n",
      "\n",
      "Continuous model is non-convex -- solving as a MIP\n",
      "\n",
      "Presolve time: 0.00s\n",
      "Presolved: 6 rows, 4 columns, 12 nonzeros\n",
      "Presolved model has 2 bilinear constraint(s)\n",
      "Variable types: 4 continuous, 0 integer (0 binary)\n",
      "\n",
      "Root relaxation: objective 3.456000e+03, 3 iterations, 0.00 seconds (0.00 work units)\n",
      "\n",
      "    Nodes    |    Current Node    |     Objective Bounds      |     Work\n",
      " Expl Unexpl |  Obj  Depth IntInf | Incumbent    BestBd   Gap | It/Node Time\n",
      "\n",
      "     0     0 3456.00000    0    2          - 3456.00000      -     -    0s\n",
      "H    0     0                    1825.2965874 3456.00000  89.3%     -    0s\n",
      "     0     0 2633.14286    0    2 1825.29659 2633.14286  44.3%     -    0s\n",
      "     0     0 2280.24742    0    2 1825.29659 2280.24742  24.9%     -    0s\n",
      "     0     2 2280.24742    0    2 1825.29659 2280.24742  24.9%     -    0s\n",
      "\n",
      "Explored 23 nodes (24 simplex iterations) in 0.04 seconds (0.00 work units)\n",
      "Thread count was 8 (of 8 available processors)\n",
      "\n",
      "Solution count 1: 1825.3 \n",
      "\n",
      "Optimal solution found (tolerance 1.00e-04)\n",
      "Best objective 1.825296587357e+03, best bound 1.825431335488e+03, gap 0.0074%\n"
     ]
    }
   ],
   "source": [
    "model.optimize()"
   ]
  },
  {
   "cell_type": "code",
   "execution_count": 18,
   "id": "d83fb26a",
   "metadata": {},
   "outputs": [
    {
     "data": {
      "text/plain": [
       "1825.296587356937"
      ]
     },
     "execution_count": 18,
     "metadata": {},
     "output_type": "execute_result"
    }
   ],
   "source": [
    "model.ObjVal"
   ]
  },
  {
   "cell_type": "code",
   "execution_count": 19,
   "id": "9f09df09",
   "metadata": {},
   "outputs": [
    {
     "data": {
      "text/plain": [
       "26.58300524425589"
      ]
     },
     "execution_count": 19,
     "metadata": {},
     "output_type": "execute_result"
    }
   ],
   "source": [
    "X.X"
   ]
  },
  {
   "cell_type": "code",
   "execution_count": 20,
   "id": "e7d25b63",
   "metadata": {},
   "outputs": [
    {
     "data": {
      "text/plain": [
       "4.708497377872056"
      ]
     },
     "execution_count": 20,
     "metadata": {},
     "output_type": "execute_result"
    }
   ],
   "source": [
    "h.X"
   ]
  },
  {
   "cell_type": "code",
   "execution_count": 21,
   "id": "18beb56a",
   "metadata": {},
   "outputs": [
    {
     "data": {
      "text/plain": [
       "68.6640419540733"
      ]
     },
     "execution_count": 21,
     "metadata": {},
     "output_type": "execute_result"
    }
   ],
   "source": [
    "Y.X"
   ]
  },
  {
   "cell_type": "code",
   "execution_count": null,
   "id": "928a3791",
   "metadata": {},
   "outputs": [],
   "source": []
  },
  {
   "cell_type": "code",
   "execution_count": null,
   "id": "d224077c",
   "metadata": {},
   "outputs": [],
   "source": []
  }
 ],
 "metadata": {
  "kernelspec": {
   "display_name": "Python 3 (ipykernel)",
   "language": "python",
   "name": "python3"
  },
  "language_info": {
   "codemirror_mode": {
    "name": "ipython",
    "version": 3
   },
   "file_extension": ".py",
   "mimetype": "text/x-python",
   "name": "python",
   "nbconvert_exporter": "python",
   "pygments_lexer": "ipython3",
   "version": "3.10.6"
  },
  "toc": {
   "base_numbering": 1,
   "nav_menu": {},
   "number_sections": true,
   "sideBar": true,
   "skip_h1_title": false,
   "title_cell": "Table of Contents",
   "title_sidebar": "Contents",
   "toc_cell": false,
   "toc_position": {},
   "toc_section_display": true,
   "toc_window_display": false
  }
 },
 "nbformat": 4,
 "nbformat_minor": 5
}
