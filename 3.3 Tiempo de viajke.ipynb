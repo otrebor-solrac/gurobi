{
 "cells": [
  {
   "cell_type": "markdown",
   "id": "7798a001",
   "metadata": {},
   "source": [
    "Una isla está a 2 mi hacia el norte de su punto más cercano a lo largo de una línea de costa recta. Un visitante se aloja en una cabaña en la costa que está a \n",
    "6 mi al oeste de ese punto. El visitante planea ir de la cabaña a la isla. Supongamos que el visitante corre a una tasa de \n",
    "8mph y nada a una tasa de  3mph.\n",
    " ¿Qué distancia debe correr el visitante antes de nadar para minimizar el tiempo que tarda en llegar a la isla?"
   ]
  },
  {
   "cell_type": "code",
   "execution_count": 1,
   "id": "4dc2eb22",
   "metadata": {},
   "outputs": [],
   "source": [
    "import gurobipy as gp"
   ]
  },
  {
   "cell_type": "markdown",
   "id": "299fe0c3",
   "metadata": {},
   "source": [
    "Objetivo\n",
    "t1 = x/v1\n",
    "\n",
    "t2 = ((6-x)*(6-x)+4)^0.5/v2\n",
    "\n",
    "T = t1 + t2\n",
    "\n",
    "v1=8\n",
    "\n",
    "v2=3\n",
    "\n",
    "\n"
   ]
  },
  {
   "cell_type": "code",
   "execution_count": 2,
   "id": "1287c626",
   "metadata": {},
   "outputs": [
    {
     "name": "stdout",
     "output_type": "stream",
     "text": [
      "Restricted license - for non-production use only - expires 2024-10-28\n",
      "Set parameter NonConvex to value 2\n"
     ]
    }
   ],
   "source": [
    "model = gp.Model('tiempo')\n",
    "model.setParam('NonConvex', 2)"
   ]
  },
  {
   "cell_type": "code",
   "execution_count": 3,
   "id": "9c1fa478",
   "metadata": {},
   "outputs": [],
   "source": [
    "x = model.addVar(vtype=gp.GRB.CONTINUOUS,lb=0,ub=6,name='X')\n",
    "y = model.addVar(vtype=gp.GRB.CONTINUOUS,name='y')\n",
    "z = model.addVar(vtype=gp.GRB.CONTINUOUS,name='z')"
   ]
  },
  {
   "cell_type": "code",
   "execution_count": 4,
   "id": "abbcfdf6",
   "metadata": {},
   "outputs": [],
   "source": [
    "model.setObjective(x/8 + y, gp.GRB.MINIMIZE)"
   ]
  },
  {
   "cell_type": "code",
   "execution_count": 5,
   "id": "a803def1",
   "metadata": {},
   "outputs": [
    {
     "data": {
      "text/plain": [
       "<gurobi.GenConstr *Awaiting Model Update*>"
      ]
     },
     "execution_count": 5,
     "metadata": {},
     "output_type": "execute_result"
    }
   ],
   "source": [
    "model.addConstr(z==((6-x)*(6-x)+4)/9)\n",
    "model.addGenConstrPow(z,y,0.5)\n"
   ]
  },
  {
   "cell_type": "code",
   "execution_count": 6,
   "id": "6a1fd0f0",
   "metadata": {},
   "outputs": [
    {
     "name": "stdout",
     "output_type": "stream",
     "text": [
      "Gurobi Optimizer version 10.0.2 build v10.0.2rc0 (linux64)\n",
      "\n",
      "CPU model: Intel(R) Core(TM) i5-10300H CPU @ 2.50GHz, instruction set [SSE2|AVX|AVX2]\n",
      "Thread count: 4 physical cores, 8 logical processors, using up to 8 threads\n",
      "\n",
      "Optimize a model with 0 rows, 3 columns and 0 nonzeros\n",
      "Model fingerprint: 0xde72235d\n",
      "Model has 1 quadratic constraint\n",
      "Model has 1 general constraint\n",
      "Variable types: 3 continuous, 0 integer (0 binary)\n",
      "Coefficient statistics:\n",
      "  Matrix range     [0e+00, 0e+00]\n",
      "  QMatrix range    [1e-01, 1e-01]\n",
      "  QLMatrix range   [1e+00, 1e+00]\n",
      "  Objective range  [1e-01, 1e+00]\n",
      "  Bounds range     [6e+00, 6e+00]\n",
      "  RHS range        [0e+00, 0e+00]\n",
      "  QRHS range       [4e+00, 4e+00]\n",
      "Presolve added 3 rows and 1101 columns\n",
      "Presolve time: 0.00s\n",
      "Presolved: 6 rows, 1104 columns, 3308 nonzeros\n",
      "Presolved model has 1 SOS constraint(s)\n",
      "Presolved model has 1 bilinear constraint(s)\n",
      "Variable types: 1104 continuous, 0 integer (0 binary)\n",
      "\n",
      "Root relaxation: objective 5.279438e-01, 3 iterations, 0.00 seconds (0.00 work units)\n",
      "\n",
      "    Nodes    |    Current Node    |     Objective Bounds      |     Work\n",
      " Expl Unexpl |  Obj  Depth IntInf | Incumbent    BestBd   Gap | It/Node Time\n",
      "\n",
      "     0     0    0.52794    0    2          -    0.52794      -     -    0s\n",
      "     0     0    0.60858    0    2          -    0.60858      -     -    0s\n",
      "     0     0    0.64065    0    2          -    0.64065      -     -    0s\n",
      "     0     0    0.66476    0    2          -    0.66476      -     -    0s\n",
      "     0     0    0.68474    0    2          -    0.68474      -     -    0s\n",
      "     0     0    0.70211    0    2          -    0.70211      -     -    0s\n",
      "     0     0    0.71761    0    2          -    0.71761      -     -    0s\n",
      "     0     0    0.73170    0    2          -    0.73170      -     -    0s\n",
      "     0     0    0.74468    0    2          -    0.74468      -     -    0s\n",
      "     0     0    0.75675    0    2          -    0.75675      -     -    0s\n",
      "     0     0    0.76806    0    2          -    0.76806      -     -    0s\n",
      "     0     0    0.95556    0    2          -    0.95556      -     -    0s\n",
      "     0     0    0.96623    0    2          -    0.96623      -     -    0s\n",
      "     0     0    0.97634    0    2          -    0.97634      -     -    0s\n",
      "     0     0    0.98595    0    2          -    0.98595      -     -    0s\n",
      "     0     0    0.99514    0    2          -    0.99514      -     -    0s\n",
      "     0     0    1.00393    0    2          -    1.00393      -     -    0s\n",
      "     0     0    1.01238    0    2          -    1.01238      -     -    0s\n",
      "     0     0    1.02051    0    2          -    1.02051      -     -    0s\n",
      "     0     0    1.02835    0    2          -    1.02835      -     -    0s\n",
      "     0     0    1.03593    0    2          -    1.03593      -     -    0s\n",
      "     0     0    1.04327    0    2          -    1.04327      -     -    0s\n",
      "     0     0    1.10236    0    2          -    1.10236      -     -    0s\n",
      "     0     0    1.10908    0    2          -    1.10908      -     -    0s\n",
      "     0     0    1.11561    0    2          -    1.11561      -     -    0s\n",
      "     0     0    1.12195    0    2          -    1.12195      -     -    0s\n",
      "     0     0    1.12812    0    2          -    1.12812      -     -    0s\n",
      "     0     0    1.13413    0    2          -    1.13413      -     -    0s\n",
      "     0     0    1.13999    0    2          -    1.13999      -     -    0s\n",
      "     0     0    1.14571    0    2          -    1.14571      -     -    0s\n",
      "     0     0    1.15129    0    2          -    1.15129      -     -    0s\n",
      "     0     0    1.15675    0    2          -    1.15675      -     -    0s\n",
      "     0     0    1.16208    0    2          -    1.16208      -     -    0s\n",
      "H    0     0                       1.7203691    1.16208  32.5%     -    0s\n",
      "     0     0    1.16731    0    2    1.72037    1.16731  32.1%     -    0s\n",
      "     0     2    1.16731    0    2    1.72037    1.16731  32.1%     -    0s\n",
      "*   34    20               7       1.4092900    1.32260  6.15%   1.6    0s\n",
      "H   40    17                       1.3680116    1.32797  2.93%   1.5    0s\n",
      "\n",
      "Explored 108 nodes (198 simplex iterations) in 0.14 seconds (0.07 work units)\n",
      "Thread count was 8 (of 8 available processors)\n",
      "\n",
      "Solution count 3: 1.36801 1.40929 1.72037 \n",
      "\n",
      "Optimal solution found (tolerance 1.00e-04)\n",
      "Warning: max constraint violation (4.7746e-06) exceeds tolerance\n",
      "Warning: max general constraint violation (4.7746e-06) exceeds tolerance\n",
      "Best objective 1.368011640244e+00, best bound 1.367931089269e+00, gap 0.0059%\n"
     ]
    }
   ],
   "source": [
    "model.optimize()"
   ]
  },
  {
   "cell_type": "code",
   "execution_count": 7,
   "id": "129d6550",
   "metadata": {},
   "outputs": [
    {
     "data": {
      "text/plain": [
       "1.368011640244454"
      ]
     },
     "execution_count": 7,
     "metadata": {},
     "output_type": "execute_result"
    }
   ],
   "source": [
    "model.ObjVal"
   ]
  },
  {
   "cell_type": "code",
   "execution_count": 8,
   "id": "73c02c18",
   "metadata": {},
   "outputs": [
    {
     "data": {
      "text/plain": [
       "5.1892557921315"
      ]
     },
     "execution_count": 8,
     "metadata": {},
     "output_type": "execute_result"
    }
   ],
   "source": [
    "x.X"
   ]
  },
  {
   "cell_type": "code",
   "execution_count": null,
   "id": "a8dfa078",
   "metadata": {},
   "outputs": [],
   "source": []
  }
 ],
 "metadata": {
  "kernelspec": {
   "display_name": "Python 3 (ipykernel)",
   "language": "python",
   "name": "python3"
  },
  "language_info": {
   "codemirror_mode": {
    "name": "ipython",
    "version": 3
   },
   "file_extension": ".py",
   "mimetype": "text/x-python",
   "name": "python",
   "nbconvert_exporter": "python",
   "pygments_lexer": "ipython3",
   "version": "3.10.6"
  },
  "toc": {
   "base_numbering": 1,
   "nav_menu": {},
   "number_sections": true,
   "sideBar": true,
   "skip_h1_title": false,
   "title_cell": "Table of Contents",
   "title_sidebar": "Contents",
   "toc_cell": false,
   "toc_position": {},
   "toc_section_display": true,
   "toc_window_display": false
  }
 },
 "nbformat": 4,
 "nbformat_minor": 5
}
