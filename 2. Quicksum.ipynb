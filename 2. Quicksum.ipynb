{
 "cells": [
  {
   "cell_type": "code",
   "execution_count": 1,
   "id": "636ddfd3",
   "metadata": {},
   "outputs": [],
   "source": [
    "import gurobipy as gp"
   ]
  },
  {
   "cell_type": "code",
   "execution_count": 4,
   "id": "82e4d0c0",
   "metadata": {},
   "outputs": [],
   "source": [
    "partes = [1,2,3]\n",
    "maquinas = [1,2]"
   ]
  },
  {
   "cell_type": "code",
   "execution_count": 5,
   "id": "98527f93",
   "metadata": {},
   "outputs": [
    {
     "data": {
      "text/plain": [
       "[(1, 1), (1, 2), (2, 1), (2, 2), (3, 1), (3, 2)]"
      ]
     },
     "execution_count": 5,
     "metadata": {},
     "output_type": "execute_result"
    }
   ],
   "source": [
    "arcos = [(i,j) for i in partes for j in maquinas]\n",
    "arcos"
   ]
  },
  {
   "cell_type": "code",
   "execution_count": 7,
   "id": "67ad4710",
   "metadata": {},
   "outputs": [],
   "source": [
    "tiempos = {(1,1):0.02,(1,2):0.05,(2, 1):0.03, (2, 2):0.02, (3, 1):0.05, (3, 2):0.04}\n",
    "utilidad = {1:300,2:250,3:200}"
   ]
  },
  {
   "cell_type": "code",
   "execution_count": 8,
   "id": "3923f9a8",
   "metadata": {},
   "outputs": [
    {
     "name": "stdout",
     "output_type": "stream",
     "text": [
      "Restricted license - for non-production use only - expires 2024-10-28\n"
     ]
    }
   ],
   "source": [
    "model = gp.Model('modelo 2')"
   ]
  },
  {
   "cell_type": "code",
   "execution_count": 10,
   "id": "307ff003",
   "metadata": {},
   "outputs": [],
   "source": [
    "x = model.addVars(arcos, vtype=gp.GRB.CONTINUOUS,name='x')"
   ]
  },
  {
   "cell_type": "code",
   "execution_count": 11,
   "id": "b3d317c5",
   "metadata": {},
   "outputs": [],
   "source": [
    "model.setObjective(gp.quicksum(utilidad[i]*x[i,j] for i in partes for j in maquinas),gp.GRB.MAXIMIZE)"
   ]
  },
  {
   "cell_type": "code",
   "execution_count": 13,
   "id": "48d7c075",
   "metadata": {},
   "outputs": [
    {
     "data": {
      "text/plain": [
       "{1: <gurobi.Constr *Awaiting Model Update*>,\n",
       " 2: <gurobi.Constr *Awaiting Model Update*>}"
      ]
     },
     "execution_count": 13,
     "metadata": {},
     "output_type": "execute_result"
    }
   ],
   "source": [
    "model.addConstrs(gp.quicksum(tiempos[i,j]*x[i,j] for i in partes)<=40 for j in maquinas)"
   ]
  },
  {
   "cell_type": "code",
   "execution_count": 14,
   "id": "558e3ae9",
   "metadata": {},
   "outputs": [
    {
     "name": "stdout",
     "output_type": "stream",
     "text": [
      "Minimize\n",
      "  0.0\n",
      "Subject To\n"
     ]
    }
   ],
   "source": [
    "model.display()"
   ]
  },
  {
   "cell_type": "code",
   "execution_count": 15,
   "id": "4e227689",
   "metadata": {},
   "outputs": [
    {
     "name": "stdout",
     "output_type": "stream",
     "text": [
      "Gurobi Optimizer version 10.0.2 build v10.0.2rc0 (linux64)\n",
      "\n",
      "CPU model: Intel(R) Core(TM) i5-10300H CPU @ 2.50GHz, instruction set [SSE2|AVX|AVX2]\n",
      "Thread count: 4 physical cores, 8 logical processors, using up to 8 threads\n",
      "\n",
      "Optimize a model with 2 rows, 6 columns and 6 nonzeros\n",
      "Model fingerprint: 0x9ce83d2a\n",
      "Coefficient statistics:\n",
      "  Matrix range     [2e-02, 5e-02]\n",
      "  Objective range  [2e+02, 3e+02]\n",
      "  Bounds range     [0e+00, 0e+00]\n",
      "  RHS range        [4e+01, 4e+01]\n",
      "Presolve removed 2 rows and 6 columns\n",
      "Presolve time: 0.01s\n",
      "Presolve: All rows and columns removed\n",
      "Iteration    Objective       Primal Inf.    Dual Inf.      Time\n",
      "       0    1.1000000e+06   0.000000e+00   0.000000e+00      0s\n",
      "\n",
      "Solved in 0 iterations and 0.01 seconds (0.00 work units)\n",
      "Optimal objective  1.100000000e+06\n"
     ]
    }
   ],
   "source": [
    "model.optimize()"
   ]
  },
  {
   "cell_type": "code",
   "execution_count": 16,
   "id": "57de75ac",
   "metadata": {},
   "outputs": [
    {
     "data": {
      "text/plain": [
       "1100000.0"
      ]
     },
     "execution_count": 16,
     "metadata": {},
     "output_type": "execute_result"
    }
   ],
   "source": [
    "model.ObjVal"
   ]
  },
  {
   "cell_type": "code",
   "execution_count": 17,
   "id": "64d7dcdc",
   "metadata": {},
   "outputs": [
    {
     "data": {
      "text/plain": [
       "[<gurobi.Var x[1,1] (value 2000.0)>,\n",
       " <gurobi.Var x[1,2] (value 0.0)>,\n",
       " <gurobi.Var x[2,1] (value 0.0)>,\n",
       " <gurobi.Var x[2,2] (value 2000.0)>,\n",
       " <gurobi.Var x[3,1] (value 0.0)>,\n",
       " <gurobi.Var x[3,2] (value 0.0)>]"
      ]
     },
     "execution_count": 17,
     "metadata": {},
     "output_type": "execute_result"
    }
   ],
   "source": [
    "model.getVars()"
   ]
  },
  {
   "cell_type": "code",
   "execution_count": null,
   "id": "5d383473",
   "metadata": {},
   "outputs": [],
   "source": []
  }
 ],
 "metadata": {
  "kernelspec": {
   "display_name": "Python 3 (ipykernel)",
   "language": "python",
   "name": "python3"
  },
  "language_info": {
   "codemirror_mode": {
    "name": "ipython",
    "version": 3
   },
   "file_extension": ".py",
   "mimetype": "text/x-python",
   "name": "python",
   "nbconvert_exporter": "python",
   "pygments_lexer": "ipython3",
   "version": "3.10.6"
  },
  "toc": {
   "base_numbering": 1,
   "nav_menu": {},
   "number_sections": true,
   "sideBar": true,
   "skip_h1_title": false,
   "title_cell": "Table of Contents",
   "title_sidebar": "Contents",
   "toc_cell": false,
   "toc_position": {},
   "toc_section_display": true,
   "toc_window_display": false
  }
 },
 "nbformat": 4,
 "nbformat_minor": 5
}
