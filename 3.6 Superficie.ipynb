{
 "cells": [
  {
   "cell_type": "markdown",
   "id": "7798a001",
   "metadata": {},
   "source": [
    "Se construirá una caja rectangular con una base cuadrada, una tapa abierta y un volumen de \n",
    "216  in3. ¿Cuáles deben ser las dimensiones de la caja para minimizar su área superficial? ¿Cuál es el área superficial mínima?\n"
   ]
  },
  {
   "cell_type": "code",
   "execution_count": 1,
   "id": "4dc2eb22",
   "metadata": {},
   "outputs": [],
   "source": [
    "import gurobipy as gp"
   ]
  },
  {
   "cell_type": "markdown",
   "id": "299fe0c3",
   "metadata": {},
   "source": [
    "Area\n",
    "\n",
    "A=2*x*z+2*y*z+y*x\n",
    "\n",
    "\n",
    "\n",
    "Restriccion\n",
    "\n",
    "216= x*y*z\n",
    "\n",
    "\n",
    "\n"
   ]
  },
  {
   "cell_type": "code",
   "execution_count": 2,
   "id": "1287c626",
   "metadata": {},
   "outputs": [
    {
     "name": "stdout",
     "output_type": "stream",
     "text": [
      "Restricted license - for non-production use only - expires 2024-10-28\n",
      "Set parameter NonConvex to value 2\n"
     ]
    }
   ],
   "source": [
    "model = gp.Model('superficie')\n",
    "model.setParam('NonConvex', 2)"
   ]
  },
  {
   "cell_type": "code",
   "execution_count": 3,
   "id": "9c1fa478",
   "metadata": {},
   "outputs": [],
   "source": [
    "x = model.addVar(vtype=gp.GRB.CONTINUOUS,lb=0,name='x')\n",
    "z = model.addVar(vtype=gp.GRB.CONTINUOUS,lb=0,name='z')\n",
    "\n",
    "w = model.addVar(vtype=gp.GRB.CONTINUOUS,lb=0,name='w')"
   ]
  },
  {
   "cell_type": "code",
   "execution_count": 4,
   "id": "abbcfdf6",
   "metadata": {},
   "outputs": [],
   "source": [
    "model.setObjective(x*x+4*x*z, gp.GRB.MINIMIZE)"
   ]
  },
  {
   "cell_type": "code",
   "execution_count": 5,
   "id": "a803def1",
   "metadata": {},
   "outputs": [],
   "source": [
    "model.addConstr(w == x*x)\n",
    "model.addQConstr(216 == z*w)\n",
    "model.update()"
   ]
  },
  {
   "cell_type": "code",
   "execution_count": 6,
   "id": "6a1fd0f0",
   "metadata": {},
   "outputs": [
    {
     "name": "stdout",
     "output_type": "stream",
     "text": [
      "Gurobi Optimizer version 10.0.2 build v10.0.2rc0 (linux64)\n",
      "\n",
      "CPU model: Intel(R) Core(TM) i5-10300H CPU @ 2.50GHz, instruction set [SSE2|AVX|AVX2]\n",
      "Thread count: 4 physical cores, 8 logical processors, using up to 8 threads\n",
      "\n",
      "Optimize a model with 0 rows, 3 columns and 0 nonzeros\n",
      "Model fingerprint: 0xa41bdb46\n",
      "Model has 2 quadratic objective terms\n",
      "Model has 2 quadratic constraints\n",
      "Coefficient statistics:\n",
      "  Matrix range     [0e+00, 0e+00]\n",
      "  QMatrix range    [1e+00, 1e+00]\n",
      "  QLMatrix range   [1e+00, 1e+00]\n",
      "  Objective range  [0e+00, 0e+00]\n",
      "  QObjective range [2e+00, 8e+00]\n",
      "  Bounds range     [0e+00, 0e+00]\n",
      "  RHS range        [0e+00, 0e+00]\n",
      "  QRHS range       [2e+02, 2e+02]\n",
      "\n",
      "Continuous model is non-convex -- solving as a MIP\n",
      "\n",
      "Presolve time: 0.00s\n",
      "Presolved: 10 rows, 6 columns, 14 nonzeros\n",
      "Presolved model has 3 bilinear constraint(s)\n",
      "Variable types: 6 continuous, 0 integer (0 binary)\n",
      "\n",
      "Root relaxation: objective 0.000000e+00, 0 iterations, 0.00 seconds (0.00 work units)\n",
      "\n",
      "    Nodes    |    Current Node    |     Objective Bounds      |     Work\n",
      " Expl Unexpl |  Obj  Depth IntInf | Incumbent    BestBd   Gap | It/Node Time\n",
      "\n",
      "H    0     0                     171.4393136    0.00000   100%     -    0s\n",
      "     0     0    0.00000    0    1  171.43931    0.00000   100%     -    0s\n",
      "     0     0    0.00000    0    1  171.43931    0.00000   100%     -    0s\n",
      "     0     2    0.00000    0    1  171.43931    0.00000   100%     -    0s\n",
      "\n",
      "Cutting planes:\n",
      "  RLT: 1\n",
      "\n",
      "Explored 27 nodes (16 simplex iterations) in 0.03 seconds (0.00 work units)\n",
      "Thread count was 8 (of 8 available processors)\n",
      "\n",
      "Solution count 1: 171.439 \n",
      "\n",
      "Optimal solution found (tolerance 1.00e-04)\n",
      "Best objective 1.714393136126e+02, best bound 1.714227608589e+02, gap 0.0097%\n"
     ]
    }
   ],
   "source": [
    "model.optimize()"
   ]
  },
  {
   "cell_type": "code",
   "execution_count": 7,
   "id": "129d6550",
   "metadata": {},
   "outputs": [
    {
     "data": {
      "text/plain": [
       "171.43931361256554"
      ]
     },
     "execution_count": 7,
     "metadata": {},
     "output_type": "execute_result"
    }
   ],
   "source": [
    "model.ObjVal"
   ]
  },
  {
   "cell_type": "code",
   "execution_count": 8,
   "id": "a8dfa078",
   "metadata": {},
   "outputs": [
    {
     "data": {
      "text/plain": [
       "7.559526299391035"
      ]
     },
     "execution_count": 8,
     "metadata": {},
     "output_type": "execute_result"
    }
   ],
   "source": [
    "x.X"
   ]
  },
  {
   "cell_type": "code",
   "execution_count": 10,
   "id": "7d2167d6",
   "metadata": {},
   "outputs": [
    {
     "data": {
      "text/plain": [
       "3.779763149662824"
      ]
     },
     "execution_count": 10,
     "metadata": {},
     "output_type": "execute_result"
    }
   ],
   "source": [
    "z.X"
   ]
  },
  {
   "cell_type": "code",
   "execution_count": 11,
   "id": "e40eb136",
   "metadata": {},
   "outputs": [
    {
     "data": {
      "text/plain": [
       "57.14643787118471"
      ]
     },
     "execution_count": 11,
     "metadata": {},
     "output_type": "execute_result"
    }
   ],
   "source": [
    "w.X"
   ]
  },
  {
   "cell_type": "code",
   "execution_count": 12,
   "id": "99d7ef3c",
   "metadata": {},
   "outputs": [
    {
     "data": {
      "text/plain": [
       "216.0"
      ]
     },
     "execution_count": 12,
     "metadata": {},
     "output_type": "execute_result"
    }
   ],
   "source": [
    "x.X*z.X*x.X"
   ]
  }
 ],
 "metadata": {
  "kernelspec": {
   "display_name": "criptos",
   "language": "python",
   "name": "criptos"
  },
  "language_info": {
   "codemirror_mode": {
    "name": "ipython",
    "version": 3
   },
   "file_extension": ".py",
   "mimetype": "text/x-python",
   "name": "python",
   "nbconvert_exporter": "python",
   "pygments_lexer": "ipython3",
   "version": "3.10.6"
  },
  "toc": {
   "base_numbering": 1,
   "nav_menu": {},
   "number_sections": true,
   "sideBar": true,
   "skip_h1_title": false,
   "title_cell": "Table of Contents",
   "title_sidebar": "Contents",
   "toc_cell": false,
   "toc_position": {},
   "toc_section_display": true,
   "toc_window_display": false
  }
 },
 "nbformat": 4,
 "nbformat_minor": 5
}
