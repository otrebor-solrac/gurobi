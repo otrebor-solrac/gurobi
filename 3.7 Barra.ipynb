{
 "cells": [
  {
   "cell_type": "markdown",
   "id": "7798a001",
   "metadata": {},
   "source": [
    "Se está mudando a un nuevo apartamento y nota que hay una esquina donde el pasillo se estrecha de \n",
    "8 ft a 6 ft.  ¿Cuál es la longitud del artículo más largo que puede pasar horizontalmente por la esquina?\n"
   ]
  },
  {
   "attachments": {
    "image.png": {
     "image/png": "[encoded data removed]"
    }
   },
   "cell_type": "markdown",
   "id": "58815347",
   "metadata": {},
   "source": [
    "![image.png](attachment:image.png)"
   ]
  },
  {
   "cell_type": "code",
   "execution_count": 1,
   "id": "4dc2eb22",
   "metadata": {},
   "outputs": [],
   "source": [
    "import gurobipy as gp"
   ]
  },
  {
   "cell_type": "markdown",
   "id": "299fe0c3",
   "metadata": {},
   "source": [
    "Area\n",
    "\n",
    "L=(6+y)(6+y)+(8+x)(8+x)\n",
    "\n",
    "\n",
    "\n",
    "Restriccion\n",
    "\n",
    "x*y=48\n",
    "\n",
    "\n",
    "\n"
   ]
  },
  {
   "cell_type": "code",
   "execution_count": 2,
   "id": "1287c626",
   "metadata": {},
   "outputs": [
    {
     "name": "stdout",
     "output_type": "stream",
     "text": [
      "Restricted license - for non-production use only - expires 2024-10-28\n",
      "Set parameter NonConvex to value 2\n"
     ]
    }
   ],
   "source": [
    "model = gp.Model('Barra')\n",
    "model.setParam('NonConvex', 2)"
   ]
  },
  {
   "cell_type": "code",
   "execution_count": 3,
   "id": "9c1fa478",
   "metadata": {},
   "outputs": [],
   "source": [
    "x = model.addVar(vtype=gp.GRB.CONTINUOUS,lb=0,name='x')\n",
    "y = model.addVar(vtype=gp.GRB.CONTINUOUS,lb=0,name='y')"
   ]
  },
  {
   "cell_type": "code",
   "execution_count": 4,
   "id": "abbcfdf6",
   "metadata": {},
   "outputs": [],
   "source": [
    "model.setObjective((6+y)*(6+y)+(8+x)*(8+x),gp.GRB.MINIMIZE)"
   ]
  },
  {
   "cell_type": "code",
   "execution_count": 5,
   "id": "a803def1",
   "metadata": {},
   "outputs": [],
   "source": [
    "model.addConstr(48 == x*y)\n",
    "model.update()"
   ]
  },
  {
   "cell_type": "code",
   "execution_count": 6,
   "id": "6a1fd0f0",
   "metadata": {},
   "outputs": [
    {
     "name": "stdout",
     "output_type": "stream",
     "text": [
      "Gurobi Optimizer version 10.0.2 build v10.0.2rc0 (linux64)\n",
      "\n",
      "CPU model: Intel(R) Core(TM) i5-10300H CPU @ 2.50GHz, instruction set [SSE2|AVX|AVX2]\n",
      "Thread count: 4 physical cores, 8 logical processors, using up to 8 threads\n",
      "\n",
      "Optimize a model with 0 rows, 2 columns and 0 nonzeros\n",
      "Model fingerprint: 0x32da1707\n",
      "Model has 2 quadratic objective terms\n",
      "Model has 1 quadratic constraint\n",
      "Coefficient statistics:\n",
      "  Matrix range     [0e+00, 0e+00]\n",
      "  QMatrix range    [1e+00, 1e+00]\n",
      "  Objective range  [1e+01, 2e+01]\n",
      "  QObjective range [2e+00, 2e+00]\n",
      "  Bounds range     [0e+00, 0e+00]\n",
      "  RHS range        [0e+00, 0e+00]\n",
      "  QRHS range       [5e+01, 5e+01]\n",
      "\n",
      "Continuous model is non-convex -- solving as a MIP\n",
      "\n",
      "Presolve time: 0.00s\n",
      "Presolved: 4 rows, 3 columns, 3 nonzeros\n",
      "Presolved model has 2 quadratic objective terms\n",
      "Presolved model has 1 bilinear constraint(s)\n",
      "Variable types: 3 continuous, 0 integer (0 binary)\n",
      "\n",
      "Root relaxation: objective 1.000000e+02, 0 iterations, 0.00 seconds (0.00 work units)\n",
      "\n",
      "    Nodes    |    Current Node    |     Objective Bounds      |     Work\n",
      " Expl Unexpl |  Obj  Depth IntInf | Incumbent    BestBd   Gap | It/Node Time\n",
      "\n",
      "H    0     0                     389.3324819  100.00000  74.3%     -    0s\n",
      "H    0     0                     389.3251906  100.00000  74.3%     -    0s\n",
      "     0     0  250.50975    0    1  389.32519  250.50975  35.7%     -    0s\n",
      "     0     2  250.50975    0    1  389.32519  250.50975  35.7%     -    0s\n",
      "\n",
      "Explored 13 nodes (25 simplex iterations) in 0.03 seconds (0.00 work units)\n",
      "Thread count was 8 (of 8 available processors)\n",
      "\n",
      "Solution count 2: 389.325 389.332 \n",
      "\n",
      "Optimal solution found (tolerance 1.00e-04)\n",
      "Best objective 3.893251906309e+02, best bound 3.893232456746e+02, gap 0.0005%\n"
     ]
    }
   ],
   "source": [
    "model.optimize()"
   ]
  },
  {
   "cell_type": "code",
   "execution_count": 7,
   "id": "129d6550",
   "metadata": {},
   "outputs": [
    {
     "data": {
      "text/plain": [
       "389.3251906308561"
      ]
     },
     "execution_count": 7,
     "metadata": {},
     "output_type": "execute_result"
    }
   ],
   "source": [
    "model.ObjVal"
   ]
  },
  {
   "cell_type": "code",
   "execution_count": 12,
   "id": "39a020ed",
   "metadata": {},
   "outputs": [
    {
     "data": {
      "text/plain": [
       "19.73132511087018"
      ]
     },
     "execution_count": 12,
     "metadata": {},
     "output_type": "execute_result"
    }
   ],
   "source": [
    "import numpy as np\n",
    "np.sqrt(model.ObjVal)"
   ]
  },
  {
   "cell_type": "code",
   "execution_count": 8,
   "id": "a8dfa078",
   "metadata": {},
   "outputs": [
    {
     "data": {
      "text/plain": [
       "6.6038544977859726"
      ]
     },
     "execution_count": 8,
     "metadata": {},
     "output_type": "execute_result"
    }
   ],
   "source": [
    "x.X"
   ]
  },
  {
   "cell_type": "code",
   "execution_count": 9,
   "id": "7d2167d6",
   "metadata": {},
   "outputs": [
    {
     "data": {
      "text/plain": [
       "7.268482371332169"
      ]
     },
     "execution_count": 9,
     "metadata": {},
     "output_type": "execute_result"
    }
   ],
   "source": [
    "y.X"
   ]
  },
  {
   "cell_type": "code",
   "execution_count": 10,
   "id": "0b97c082",
   "metadata": {},
   "outputs": [
    {
     "data": {
      "text/plain": [
       "48.0"
      ]
     },
     "execution_count": 10,
     "metadata": {},
     "output_type": "execute_result"
    }
   ],
   "source": [
    "x.X*y.X"
   ]
  },
  {
   "cell_type": "code",
   "execution_count": null,
   "id": "70436a65",
   "metadata": {},
   "outputs": [],
   "source": []
  }
 ],
 "metadata": {
  "kernelspec": {
   "display_name": "criptos",
   "language": "python",
   "name": "criptos"
  },
  "language_info": {
   "codemirror_mode": {
    "name": "ipython",
    "version": 3
   },
   "file_extension": ".py",
   "mimetype": "text/x-python",
   "name": "python",
   "nbconvert_exporter": "python",
   "pygments_lexer": "ipython3",
   "version": "3.10.6"
  },
  "toc": {
   "base_numbering": 1,
   "nav_menu": {},
   "number_sections": true,
   "sideBar": true,
   "skip_h1_title": false,
   "title_cell": "Table of Contents",
   "title_sidebar": "Contents",
   "toc_cell": false,
   "toc_position": {},
   "toc_section_display": true,
   "toc_window_display": false
  }
 },
 "nbformat": 4,
 "nbformat_minor": 5
}
