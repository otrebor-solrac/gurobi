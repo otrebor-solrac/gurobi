{
 "cells": [
  {
   "cell_type": "code",
   "execution_count": 2,
   "id": "9efbc411",
   "metadata": {},
   "outputs": [],
   "source": [
    "import gurobipy as gp\n"
   ]
  },
  {
   "cell_type": "code",
   "execution_count": 4,
   "id": "45b0a003",
   "metadata": {},
   "outputs": [
    {
     "name": "stdout",
     "output_type": "stream",
     "text": [
      "Gurobi Optimizer version 10.0.2 build v10.0.2rc0 (linux64)\n",
      "\n",
      "CPU model: Intel(R) Core(TM) i5-10300H CPU @ 2.50GHz, instruction set [SSE2|AVX|AVX2]\n",
      "Thread count: 4 physical cores, 8 logical processors, using up to 8 threads\n",
      "\n",
      "Optimize a model with 1 rows, 2 columns and 2 nonzeros\n",
      "Model fingerprint: 0x78c0e7b0\n",
      "Model has 1 quadratic constraint\n",
      "Coefficient statistics:\n",
      "  Matrix range     [1e+00, 2e+00]\n",
      "  QMatrix range    [1e+00, 1e+00]\n",
      "  QLMatrix range   [1e+00, 1e+00]\n",
      "  Objective range  [1e+00, 2e+00]\n",
      "  Bounds range     [0e+00, 0e+00]\n",
      "  RHS range        [0e+00, 0e+00]\n",
      "  QRHS range       [1e+01, 1e+01]\n",
      "Presolve time: 0.01s\n",
      "Presolved: 4 rows, 4 columns, 7 nonzeros\n",
      "Presolved model has 1 second-order cone constraint\n",
      "Ordering time: 0.00s\n",
      "\n",
      "Barrier statistics:\n",
      " AA' NZ     : 6.000e+00\n",
      " Factor NZ  : 1.000e+01\n",
      " Factor Ops : 3.000e+01 (less than 1 second per iteration)\n",
      " Threads    : 1\n",
      "\n",
      "                  Objective                Residual\n",
      "Iter       Primal          Dual         Primal    Dual     Compl     Time\n",
      "   0   1.57759576e+01  7.27272727e+00  6.17e+00 1.29e+00  3.96e+00     0s\n",
      "   1   1.22131296e+01  1.19598686e+01  1.44e+00 1.42e-06  7.13e-01     0s\n",
      "   2   9.89768941e+00  9.52574799e+00  2.96e-01 1.56e-12  5.78e-02     0s\n",
      "   3   9.28741665e+00  9.26891262e+00  9.60e-03 8.88e-16  5.95e-04     0s\n",
      "   4   9.26649700e+00  9.26651073e+00  7.75e-09 1.29e-14  2.29e-06     0s\n",
      "   5   9.26649915e+00  9.26649919e+00  3.64e-11 2.01e-12  5.34e-09     0s\n",
      "\n",
      "Barrier solved model in 5 iterations and 0.02 seconds (0.00 work units)\n",
      "Optimal objective 9.26649915e+00\n",
      "\n",
      "Optimal solution: x=2.3166247907397253, y=4.633249573385876\n"
     ]
    }
   ],
   "source": [
    "# Create a new model\n",
    "model = gp.Model()\n",
    "\n",
    "# Create decision variables\n",
    "x = model.addVar(name=\"x\")\n",
    "y = model.addVar(name=\"y\")\n",
    "\n",
    "# Set objective function\n",
    "model.setObjective(2*x + y, sense=gp.GRB.MAXIMIZE)\n",
    "\n",
    "# Add constraints\n",
    "model.addConstr(x*x + y <= 10, name=\"c1\")\n",
    "model.addConstr(2*x - y >= 0, name=\"c2\")\n",
    "\n",
    "# Optimize the model\n",
    "model.optimize()\n",
    "\n",
    "# Print the optimal solution\n",
    "print(f\"Optimal solution: x={x.x}, y={y.x}\")"
   ]
  },
  {
   "cell_type": "markdown",
   "id": "9cfd6e27",
   "metadata": {},
   "source": [
    "## Pinturas"
   ]
  },
  {
   "cell_type": "code",
   "execution_count": 7,
   "id": "875c463a",
   "metadata": {},
   "outputs": [],
   "source": [
    "model = gp.Model(\"Model 1\")"
   ]
  },
  {
   "cell_type": "code",
   "execution_count": 9,
   "id": "9d6745d8",
   "metadata": {},
   "outputs": [],
   "source": [
    "xe = model.addVar(vtype=gp.GRB.CONTINUOUS,name='xe')\n",
    "xi = model.addVar(vtype=gp.GRB.CONTINUOUS,name='xi')"
   ]
  },
  {
   "cell_type": "code",
   "execution_count": 13,
   "id": "83d740ce",
   "metadata": {},
   "outputs": [],
   "source": [
    "model.setObjective(3*xe+2*xi,gp.GRB.MAXIMIZE)"
   ]
  },
  {
   "cell_type": "code",
   "execution_count": 14,
   "id": "29d3ae4f",
   "metadata": {},
   "outputs": [
    {
     "data": {
      "text/plain": [
       "<gurobi.Constr *Awaiting Model Update*>"
      ]
     },
     "execution_count": 14,
     "metadata": {},
     "output_type": "execute_result"
    }
   ],
   "source": [
    "model.addConstr(xe+2*xi<=6)\n",
    "model.addConstr(2*xe+xi<=8)\n",
    "model.addConstr(-xe+xi<=1)\n",
    "model.addConstr(xi<=2)"
   ]
  },
  {
   "cell_type": "code",
   "execution_count": 15,
   "id": "c3e704c2",
   "metadata": {},
   "outputs": [],
   "source": [
    "model.write('Modelo 1.lp')"
   ]
  },
  {
   "cell_type": "code",
   "execution_count": 16,
   "id": "68d2bd8c",
   "metadata": {},
   "outputs": [
    {
     "name": "stdout",
     "output_type": "stream",
     "text": [
      "Maximize\n",
      "  3.0 xe + 2.0 xi\n",
      "Subject To\n",
      "  R0: xe + 2.0 xi <= 6\n",
      "  R1: 2.0 xe + xi <= 8\n",
      "  R2: -1.0 xe + xi <= 1\n",
      "  R3: xi <= 2\n"
     ]
    }
   ],
   "source": [
    "model.display()"
   ]
  },
  {
   "cell_type": "code",
   "execution_count": 17,
   "id": "62e6a7fd",
   "metadata": {},
   "outputs": [
    {
     "name": "stdout",
     "output_type": "stream",
     "text": [
      "Gurobi Optimizer version 10.0.2 build v10.0.2rc0 (linux64)\n",
      "\n",
      "CPU model: Intel(R) Core(TM) i5-10300H CPU @ 2.50GHz, instruction set [SSE2|AVX|AVX2]\n",
      "Thread count: 4 physical cores, 8 logical processors, using up to 8 threads\n",
      "\n",
      "Optimize a model with 4 rows, 2 columns and 7 nonzeros\n",
      "Model fingerprint: 0x4fe9fcee\n",
      "Coefficient statistics:\n",
      "  Matrix range     [1e+00, 2e+00]\n",
      "  Objective range  [2e+00, 3e+00]\n",
      "  Bounds range     [0e+00, 0e+00]\n",
      "  RHS range        [1e+00, 8e+00]\n",
      "Presolve removed 1 rows and 0 columns\n",
      "Presolve time: 0.00s\n",
      "Presolved: 3 rows, 2 columns, 6 nonzeros\n",
      "\n",
      "Iteration    Objective       Primal Inf.    Dual Inf.      Time\n",
      "       0    1.8000000e+01   3.995000e+00   0.000000e+00      0s\n",
      "       2    1.2666667e+01   0.000000e+00   0.000000e+00      0s\n",
      "\n",
      "Solved in 2 iterations and 0.01 seconds (0.00 work units)\n",
      "Optimal objective  1.266666667e+01\n"
     ]
    }
   ],
   "source": [
    "model.optimize()"
   ]
  },
  {
   "cell_type": "code",
   "execution_count": 19,
   "id": "c98ef6ea",
   "metadata": {},
   "outputs": [
    {
     "data": {
      "text/plain": [
       "12.666666666666666"
      ]
     },
     "execution_count": 19,
     "metadata": {},
     "output_type": "execute_result"
    }
   ],
   "source": [
    "model.ObjVal"
   ]
  },
  {
   "cell_type": "code",
   "execution_count": 20,
   "id": "9511fe79",
   "metadata": {},
   "outputs": [
    {
     "data": {
      "text/plain": [
       "[<gurobi.Var xe (value 3.3333333333333335)>,\n",
       " <gurobi.Var xi (value 1.3333333333333333)>]"
      ]
     },
     "execution_count": 20,
     "metadata": {},
     "output_type": "execute_result"
    }
   ],
   "source": [
    "model.getVars()"
   ]
  },
  {
   "cell_type": "code",
   "execution_count": 21,
   "id": "cda68472",
   "metadata": {},
   "outputs": [
    {
     "data": {
      "text/plain": [
       "3.3333333333333335"
      ]
     },
     "execution_count": 21,
     "metadata": {},
     "output_type": "execute_result"
    }
   ],
   "source": [
    "xe.x"
   ]
  }
 ],
 "metadata": {
  "kernelspec": {
   "display_name": "Python 3 (ipykernel)",
   "language": "python",
   "name": "python3"
  },
  "language_info": {
   "codemirror_mode": {
    "name": "ipython",
    "version": 3
   },
   "file_extension": ".py",
   "mimetype": "text/x-python",
   "name": "python",
   "nbconvert_exporter": "python",
   "pygments_lexer": "ipython3",
   "version": "3.10.6"
  },
  "toc": {
   "base_numbering": 1,
   "nav_menu": {},
   "number_sections": true,
   "sideBar": true,
   "skip_h1_title": false,
   "title_cell": "Table of Contents",
   "title_sidebar": "Contents",
   "toc_cell": false,
   "toc_position": {},
   "toc_section_display": true,
   "toc_window_display": false
  }
 },
 "nbformat": 4,
 "nbformat_minor": 5
}
