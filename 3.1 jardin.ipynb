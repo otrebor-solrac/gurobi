{
 "cells": [
  {
   "cell_type": "markdown",
   "id": "eb4bf600",
   "metadata": {},
   "source": [
    "Se va a construir un jardín rectangular utilizando una pared de roca como un lado del jardín y vallas de alambre para los otros tres lados (Figura 4.62). Dados  100 ft de alambrado, determine las dimensiones que crearían un jardín de máxima superficie. ¿Cuál es el área máxima?"
   ]
  },
  {
   "cell_type": "code",
   "execution_count": 2,
   "id": "946bbc19",
   "metadata": {},
   "outputs": [],
   "source": [
    "import gurobipy as gp"
   ]
  },
  {
   "cell_type": "markdown",
   "id": "9fa285b3",
   "metadata": {},
   "source": [
    "Objetivo\n",
    "\n",
    "A = x*y\n",
    "\n",
    "Restriccion\n",
    "\n",
    "R1 = 2x+y <= 100\n",
    "\n",
    "R2 = x>0 y y>0"
   ]
  },
  {
   "cell_type": "code",
   "execution_count": 29,
   "id": "38a99c75",
   "metadata": {},
   "outputs": [
    {
     "name": "stdout",
     "output_type": "stream",
     "text": [
      "Set parameter NonConvex to value 2\n"
     ]
    }
   ],
   "source": [
    "model = gp.Model('jardin')\n",
    "model.setParam('NonConvex', 2)"
   ]
  },
  {
   "cell_type": "code",
   "execution_count": 30,
   "id": "4ca9b98b",
   "metadata": {},
   "outputs": [],
   "source": [
    "x = model.addVar(vtype=gp.GRB.CONTINUOUS,lb=0,name='x')\n",
    "y = model.addVar(vtype=gp.GRB.CONTINUOUS,lb=0, name='y')"
   ]
  },
  {
   "cell_type": "code",
   "execution_count": 31,
   "id": "4aacf992",
   "metadata": {},
   "outputs": [],
   "source": [
    "model.setObjective(x*y, gp.GRB.MAXIMIZE)"
   ]
  },
  {
   "cell_type": "code",
   "execution_count": 32,
   "id": "f3f3e364",
   "metadata": {},
   "outputs": [
    {
     "data": {
      "text/plain": [
       "<gurobi.Constr *Awaiting Model Update*>"
      ]
     },
     "execution_count": 32,
     "metadata": {},
     "output_type": "execute_result"
    }
   ],
   "source": [
    "model.addConstr(2*x+y == 100)"
   ]
  },
  {
   "cell_type": "code",
   "execution_count": 33,
   "id": "c377649a",
   "metadata": {},
   "outputs": [
    {
     "name": "stdout",
     "output_type": "stream",
     "text": [
      "Gurobi Optimizer version 10.0.2 build v10.0.2rc0 (linux64)\n",
      "\n",
      "CPU model: Intel(R) Core(TM) i5-10300H CPU @ 2.50GHz, instruction set [SSE2|AVX|AVX2]\n",
      "Thread count: 4 physical cores, 8 logical processors, using up to 8 threads\n",
      "\n",
      "Optimize a model with 1 rows, 2 columns and 2 nonzeros\n",
      "Model fingerprint: 0x89ba640f\n",
      "Model has 1 quadratic objective term\n",
      "Coefficient statistics:\n",
      "  Matrix range     [1e+00, 2e+00]\n",
      "  Objective range  [0e+00, 0e+00]\n",
      "  QObjective range [2e+00, 2e+00]\n",
      "  Bounds range     [0e+00, 0e+00]\n",
      "  RHS range        [1e+02, 1e+02]\n",
      "\n",
      "Continuous model is non-convex -- solving as a MIP\n",
      "\n",
      "Found heuristic solution: objective -0.0000000\n",
      "Presolve time: 0.00s\n",
      "Presolved: 3 rows, 3 columns, 6 nonzeros\n",
      "Presolved model has 1 bilinear constraint(s)\n",
      "Variable types: 3 continuous, 0 integer (0 binary)\n",
      "\n",
      "Root relaxation: objective 2.500000e+03, 3 iterations, 0.00 seconds (0.00 work units)\n",
      "\n",
      "    Nodes    |    Current Node    |     Objective Bounds      |     Work\n",
      " Expl Unexpl |  Obj  Depth IntInf | Incumbent    BestBd   Gap | It/Node Time\n",
      "\n",
      "     0     0 2500.00000    0    1   -0.00000 2500.00000      -     -    0s\n",
      "H    0     0                    1250.0000000 2500.00000   100%     -    0s\n",
      "     0     0 2000.00000    0    1 1250.00000 2000.00000  60.0%     -    0s\n",
      "     0     0 1500.00000    0    1 1250.00000 1500.00000  20.0%     -    0s\n",
      "     0     0 1350.00000    0    1 1250.00000 1350.00000  8.00%     -    0s\n",
      "     0     0 1275.00000    0    1 1250.00000 1275.00000  2.00%     -    0s\n",
      "     0     0 1256.25000    0    1 1250.00000 1256.25000  0.50%     -    0s\n",
      "     0     0 1251.56250    0    1 1250.00000 1251.56250  0.12%     -    0s\n",
      "     0     0 1250.39063    0    1 1250.00000 1250.39063  0.03%     -    0s\n",
      "     0     0 1250.09766    0    1 1250.00000 1250.09766  0.01%     -    0s\n",
      "\n",
      "Cutting planes:\n",
      "  RLT: 5\n",
      "\n",
      "Explored 1 nodes (12 simplex iterations) in 0.04 seconds (0.00 work units)\n",
      "Thread count was 8 (of 8 available processors)\n",
      "\n",
      "Solution count 2: 1250 -0 \n",
      "\n",
      "Optimal solution found (tolerance 1.00e-04)\n",
      "Best objective 1.250000000000e+03, best bound 1.250097656250e+03, gap 0.0078%\n"
     ]
    }
   ],
   "source": [
    "model.optimize()"
   ]
  },
  {
   "cell_type": "code",
   "execution_count": 34,
   "id": "d83fb26a",
   "metadata": {},
   "outputs": [
    {
     "data": {
      "text/plain": [
       "1250.0"
      ]
     },
     "execution_count": 34,
     "metadata": {},
     "output_type": "execute_result"
    }
   ],
   "source": [
    "model.ObjVal"
   ]
  },
  {
   "cell_type": "code",
   "execution_count": 35,
   "id": "9f09df09",
   "metadata": {},
   "outputs": [
    {
     "data": {
      "text/plain": [
       "25.0"
      ]
     },
     "execution_count": 35,
     "metadata": {},
     "output_type": "execute_result"
    }
   ],
   "source": [
    "x.X"
   ]
  },
  {
   "cell_type": "code",
   "execution_count": 36,
   "id": "e7d25b63",
   "metadata": {},
   "outputs": [
    {
     "data": {
      "text/plain": [
       "50.0"
      ]
     },
     "execution_count": 36,
     "metadata": {},
     "output_type": "execute_result"
    }
   ],
   "source": [
    "y.X"
   ]
  },
  {
   "cell_type": "code",
   "execution_count": 39,
   "id": "d3da30dd",
   "metadata": {},
   "outputs": [
    {
     "name": "stdout",
     "output_type": "stream",
     "text": [
      "Set parameter NonConvex to value 2\n",
      "Gurobi Optimizer version 10.0.2 build v10.0.2rc0 (linux64)\n",
      "\n",
      "CPU model: Intel(R) Core(TM) i5-10300H CPU @ 2.50GHz, instruction set [SSE2|AVX|AVX2]\n",
      "Thread count: 4 physical cores, 8 logical processors, using up to 8 threads\n",
      "\n",
      "Optimize a model with 1 rows, 2 columns and 2 nonzeros\n",
      "Model fingerprint: 0xa9269371\n",
      "Model has 1 quadratic objective term\n",
      "Coefficient statistics:\n",
      "  Matrix range     [1e+00, 2e+00]\n",
      "  Objective range  [0e+00, 0e+00]\n",
      "  QObjective range [2e+00, 2e+00]\n",
      "  Bounds range     [0e+00, 0e+00]\n",
      "  RHS range        [2e+02, 2e+02]\n",
      "\n",
      "Continuous model is non-convex -- solving as a MIP\n",
      "\n",
      "Presolve time: 0.00s\n",
      "Presolved: 3 rows, 3 columns, 6 nonzeros\n",
      "Presolved model has 1 bilinear constraint(s)\n",
      "Variable types: 3 continuous, 0 integer (0 binary)\n",
      "\n",
      "Root relaxation: objective 1.000000e+04, 2 iterations, 0.00 seconds (0.00 work units)\n",
      "\n",
      "    Nodes    |    Current Node    |     Objective Bounds      |     Work\n",
      " Expl Unexpl |  Obj  Depth IntInf | Incumbent    BestBd   Gap | It/Node Time\n",
      "\n",
      "     0     0 10000.0000    0    1          - 10000.0000      -     -    0s\n",
      "H    0     0                    5000.0000000 10000.0000   100%     -    0s\n",
      "     0     0 10000.0000    0    1 5000.00000 10000.0000   100%     -    0s\n",
      "     0     2 10000.0000    0    1 5000.00000 10000.0000   100%     -    0s\n",
      "\n",
      "Explored 3 nodes (2 simplex iterations) in 0.01 seconds (0.00 work units)\n",
      "Thread count was 8 (of 8 available processors)\n",
      "\n",
      "Solution count 1: 5000 \n",
      "\n",
      "Optimal solution found (tolerance 1.00e-04)\n",
      "Best objective 5.000000000000e+03, best bound 5.000000000000e+03, gap 0.0000%\n"
     ]
    }
   ],
   "source": [
    "# Ahora con 200 mts de valla\n",
    "model = gp.Model('jardin2')\n",
    "model.setParam('NonConvex', 2)\n",
    "\n",
    "x = model.addVar(vtype=gp.GRB.CONTINUOUS,lb=0,name='x')\n",
    "y = model.addVar(vtype=gp.GRB.CONTINUOUS,lb=0, name='y')\n",
    "\n",
    "model.setObjective(x*y, gp.GRB.MAXIMIZE)\n",
    "\n",
    "model.addConstr(2*x+y == 200)\n",
    "model.optimize()"
   ]
  },
  {
   "cell_type": "code",
   "execution_count": 40,
   "id": "c461b13e",
   "metadata": {},
   "outputs": [
    {
     "data": {
      "text/plain": [
       "5000.0"
      ]
     },
     "execution_count": 40,
     "metadata": {},
     "output_type": "execute_result"
    }
   ],
   "source": [
    "model.ObjVal"
   ]
  },
  {
   "cell_type": "code",
   "execution_count": null,
   "id": "928a3791",
   "metadata": {},
   "outputs": [],
   "source": []
  },
  {
   "cell_type": "code",
   "execution_count": null,
   "id": "d224077c",
   "metadata": {},
   "outputs": [],
   "source": []
  }
 ],
 "metadata": {
  "kernelspec": {
   "display_name": "Python 3 (ipykernel)",
   "language": "python",
   "name": "python3"
  },
  "language_info": {
   "codemirror_mode": {
    "name": "ipython",
    "version": 3
   },
   "file_extension": ".py",
   "mimetype": "text/x-python",
   "name": "python",
   "nbconvert_exporter": "python",
   "pygments_lexer": "ipython3",
   "version": "3.10.6"
  },
  "toc": {
   "base_numbering": 1,
   "nav_menu": {},
   "number_sections": true,
   "sideBar": true,
   "skip_h1_title": false,
   "title_cell": "Table of Contents",
   "title_sidebar": "Contents",
   "toc_cell": false,
   "toc_position": {},
   "toc_section_display": true,
   "toc_window_display": false
  }
 },
 "nbformat": 4,
 "nbformat_minor": 5
}
