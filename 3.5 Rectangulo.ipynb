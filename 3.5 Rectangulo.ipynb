{
 "cells": [
  {
   "cell_type": "markdown",
   "id": "7798a001",
   "metadata": {},
   "source": [
    "Un rectángulo debe inscribirse en la elipse. ¿Cuáles deben ser las dimensiones del rectángulo para maximizar su área? ¿Cuál es el área máxima?\n",
    "\n"
   ]
  },
  {
   "cell_type": "code",
   "execution_count": 1,
   "id": "4dc2eb22",
   "metadata": {},
   "outputs": [],
   "source": [
    "import gurobipy as gp"
   ]
  },
  {
   "cell_type": "markdown",
   "id": "299fe0c3",
   "metadata": {},
   "source": [
    "Ganacia\n",
    "\n",
    "A/4= x*y\n",
    "\n",
    "Restriccion\n",
    "\n",
    "x*x/4+y*y=1\n",
    "\n",
    "0<=y<=1\n",
    "\n",
    "0<=x<=2\n",
    "\n",
    "\n",
    "\n"
   ]
  },
  {
   "cell_type": "code",
   "execution_count": 2,
   "id": "1287c626",
   "metadata": {},
   "outputs": [
    {
     "name": "stdout",
     "output_type": "stream",
     "text": [
      "Restricted license - for non-production use only - expires 2024-10-28\n",
      "Set parameter NonConvex to value 2\n"
     ]
    }
   ],
   "source": [
    "model = gp.Model('rectangulo')\n",
    "model.setParam('NonConvex', 2)"
   ]
  },
  {
   "cell_type": "code",
   "execution_count": 3,
   "id": "9c1fa478",
   "metadata": {},
   "outputs": [],
   "source": [
    "x = model.addVar(vtype=gp.GRB.CONTINUOUS,lb=0,ub=2,name='x')\n",
    "y = model.addVar(vtype=gp.GRB.CONTINUOUS,lb=0,ub=1,name='y')\n"
   ]
  },
  {
   "cell_type": "code",
   "execution_count": 4,
   "id": "abbcfdf6",
   "metadata": {},
   "outputs": [],
   "source": [
    "model.setObjective(x*y, gp.GRB.MAXIMIZE)"
   ]
  },
  {
   "cell_type": "code",
   "execution_count": 5,
   "id": "a803def1",
   "metadata": {},
   "outputs": [
    {
     "data": {
      "text/plain": [
       "<gurobi.QConstr Not Yet Added>"
      ]
     },
     "execution_count": 5,
     "metadata": {},
     "output_type": "execute_result"
    }
   ],
   "source": [
    "model.addConstr(x*x/4+y*y==1)\n"
   ]
  },
  {
   "cell_type": "code",
   "execution_count": 6,
   "id": "6a1fd0f0",
   "metadata": {},
   "outputs": [
    {
     "name": "stdout",
     "output_type": "stream",
     "text": [
      "Gurobi Optimizer version 10.0.2 build v10.0.2rc0 (linux64)\n",
      "\n",
      "CPU model: Intel(R) Core(TM) i5-10300H CPU @ 2.50GHz, instruction set [SSE2|AVX|AVX2]\n",
      "Thread count: 4 physical cores, 8 logical processors, using up to 8 threads\n",
      "\n",
      "Optimize a model with 0 rows, 2 columns and 0 nonzeros\n",
      "Model fingerprint: 0xf8fc3d90\n",
      "Model has 1 quadratic objective term\n",
      "Model has 1 quadratic constraint\n",
      "Coefficient statistics:\n",
      "  Matrix range     [0e+00, 0e+00]\n",
      "  QMatrix range    [2e-01, 1e+00]\n",
      "  Objective range  [0e+00, 0e+00]\n",
      "  QObjective range [2e+00, 2e+00]\n",
      "  Bounds range     [1e+00, 2e+00]\n",
      "  RHS range        [0e+00, 0e+00]\n",
      "  QRHS range       [1e+00, 1e+00]\n",
      "\n",
      "Continuous model is non-convex -- solving as a MIP\n",
      "\n",
      "Presolve time: 0.00s\n",
      "Presolved: 9 rows, 5 columns, 16 nonzeros\n",
      "Presolved model has 3 bilinear constraint(s)\n",
      "Variable types: 5 continuous, 0 integer (0 binary)\n",
      "\n",
      "Root relaxation: objective 1.500000e+00, 4 iterations, 0.00 seconds (0.00 work units)\n",
      "\n",
      "    Nodes    |    Current Node    |     Objective Bounds      |     Work\n",
      " Expl Unexpl |  Obj  Depth IntInf | Incumbent    BestBd   Gap | It/Node Time\n",
      "\n",
      "     0     0    1.50000    0    3          -    1.50000      -     -    0s\n",
      "H    0     0                       1.0000000    1.50000  50.0%     -    0s\n",
      "     0     0    1.22500    0    3    1.00000    1.22500  22.5%     -    0s\n",
      "     0     0    1.22500    0    3    1.00000    1.22500  22.5%     -    0s\n",
      "     0     2    1.22500    0    3    1.00000    1.22500  22.5%     -    0s\n",
      "\n",
      "Cutting planes:\n",
      "  RLT: 2\n",
      "\n",
      "Explored 15 nodes (32 simplex iterations) in 0.02 seconds (0.00 work units)\n",
      "Thread count was 8 (of 8 available processors)\n",
      "\n",
      "Solution count 1: 1 \n",
      "\n",
      "Optimal solution found (tolerance 1.00e-04)\n",
      "Best objective 1.000000000000e+00, best bound 1.000024681367e+00, gap 0.0025%\n"
     ]
    }
   ],
   "source": [
    "model.optimize()"
   ]
  },
  {
   "cell_type": "code",
   "execution_count": 7,
   "id": "129d6550",
   "metadata": {},
   "outputs": [
    {
     "data": {
      "text/plain": [
       "1.0"
      ]
     },
     "execution_count": 7,
     "metadata": {},
     "output_type": "execute_result"
    }
   ],
   "source": [
    "model.ObjVal"
   ]
  },
  {
   "cell_type": "code",
   "execution_count": 8,
   "id": "a8dfa078",
   "metadata": {},
   "outputs": [
    {
     "data": {
      "text/plain": [
       "1.4142135623730951"
      ]
     },
     "execution_count": 8,
     "metadata": {},
     "output_type": "execute_result"
    }
   ],
   "source": [
    "x.X"
   ]
  },
  {
   "cell_type": "code",
   "execution_count": 9,
   "id": "388fcf88",
   "metadata": {},
   "outputs": [
    {
     "data": {
      "text/plain": [
       "0.7071067811865475"
      ]
     },
     "execution_count": 9,
     "metadata": {},
     "output_type": "execute_result"
    }
   ],
   "source": [
    "y.X"
   ]
  }
 ],
 "metadata": {
  "kernelspec": {
   "display_name": "Python 3 (ipykernel)",
   "language": "python",
   "name": "python3"
  },
  "language_info": {
   "codemirror_mode": {
    "name": "ipython",
    "version": 3
   },
   "file_extension": ".py",
   "mimetype": "text/x-python",
   "name": "python",
   "nbconvert_exporter": "python",
   "pygments_lexer": "ipython3",
   "version": "3.10.6"
  },
  "toc": {
   "base_numbering": 1,
   "nav_menu": {},
   "number_sections": true,
   "sideBar": true,
   "skip_h1_title": false,
   "title_cell": "Table of Contents",
   "title_sidebar": "Contents",
   "toc_cell": false,
   "toc_position": {},
   "toc_section_display": true,
   "toc_window_display": false
  }
 },
 "nbformat": 4,
 "nbformat_minor": 5
}
